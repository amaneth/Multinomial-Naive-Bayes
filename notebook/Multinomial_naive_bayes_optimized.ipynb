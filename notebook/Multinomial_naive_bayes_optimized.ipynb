{
  "cells": [
    {
      "cell_type": "markdown",
      "metadata": {
        "id": "view-in-github",
        "colab_type": "text"
      },
      "source": [
        "<a href=\"https://colab.research.google.com/github/amaneth/Multinomial-Naive-Bayes/blob/main/Multinomial_naive_bayes_optimized.ipynb\" target=\"_parent\"><img src=\"https://colab.research.google.com/assets/colab-badge.svg\" alt=\"Open In Colab\"/></a>"
      ]
    },
    {
      "cell_type": "markdown",
      "metadata": {
        "id": "fFSfoZfCe9Jt"
      },
      "source": [
        "Multinomial Naives Bayes"
      ]
    },
    {
      "cell_type": "code",
      "execution_count": 150,
      "metadata": {
        "id": "gBVuRP4mevFM",
        "colab": {
          "base_uri": "https://localhost:8080/"
        },
        "outputId": "d9ffe4b5-4604-4e77-de03-63c860591ed3"
      },
      "outputs": [
        {
          "output_type": "stream",
          "name": "stdout",
          "text": [
            "[nltk_data] Downloading package stopwords to /root/nltk_data...\n",
            "[nltk_data]   Package stopwords is already up-to-date!\n",
            "[nltk_data] Downloading package wordnet to /root/nltk_data...\n",
            "[nltk_data]   Package wordnet is already up-to-date!\n"
          ]
        }
      ],
      "source": [
        "\n",
        "import numpy as np\n",
        "import pandas as pd\n",
        "import string\n",
        "import nltk\n",
        "nltk.download('stopwords')\n",
        "nltk.download('wordnet')\n",
        "from nltk.corpus import stopwords\n",
        "from nltk.stem.wordnet import WordNetLemmatizer\n",
        "from nltk.stem.snowball import SnowballStemmer\n",
        "from nltk.stem.porter import PorterStemmer \n",
        "from sklearn.metrics import confusion_matrix, ConfusionMatrixDisplay"
      ]
    },
    {
      "cell_type": "code",
      "source": [
        "movie_df= pd.read_csv('/content/sample_data/IMDB Dataset.csv')\n",
        "movie_df.head()"
      ],
      "metadata": {
        "colab": {
          "base_uri": "https://localhost:8080/",
          "height": 206
        },
        "id": "TaF9rlcP6bdA",
        "outputId": "4dafdb62-87ef-4438-fec3-26734d110175"
      },
      "execution_count": 151,
      "outputs": [
        {
          "output_type": "execute_result",
          "data": {
            "text/plain": [
              "                                              review sentiment\n",
              "0  One of the other reviewers has mentioned that ...  positive\n",
              "1  A wonderful little production. <br /><br />The...  positive\n",
              "2  I thought this was a wonderful way to spend ti...  positive\n",
              "3  Basically there's a family where a little boy ...  negative\n",
              "4  Petter Mattei's \"Love in the Time of Money\" is...  positive"
            ],
            "text/html": [
              "\n",
              "  <div id=\"df-68250fa8-1c6e-4f9a-aaba-e24587dd22f0\">\n",
              "    <div class=\"colab-df-container\">\n",
              "      <div>\n",
              "<style scoped>\n",
              "    .dataframe tbody tr th:only-of-type {\n",
              "        vertical-align: middle;\n",
              "    }\n",
              "\n",
              "    .dataframe tbody tr th {\n",
              "        vertical-align: top;\n",
              "    }\n",
              "\n",
              "    .dataframe thead th {\n",
              "        text-align: right;\n",
              "    }\n",
              "</style>\n",
              "<table border=\"1\" class=\"dataframe\">\n",
              "  <thead>\n",
              "    <tr style=\"text-align: right;\">\n",
              "      <th></th>\n",
              "      <th>review</th>\n",
              "      <th>sentiment</th>\n",
              "    </tr>\n",
              "  </thead>\n",
              "  <tbody>\n",
              "    <tr>\n",
              "      <th>0</th>\n",
              "      <td>One of the other reviewers has mentioned that ...</td>\n",
              "      <td>positive</td>\n",
              "    </tr>\n",
              "    <tr>\n",
              "      <th>1</th>\n",
              "      <td>A wonderful little production. &lt;br /&gt;&lt;br /&gt;The...</td>\n",
              "      <td>positive</td>\n",
              "    </tr>\n",
              "    <tr>\n",
              "      <th>2</th>\n",
              "      <td>I thought this was a wonderful way to spend ti...</td>\n",
              "      <td>positive</td>\n",
              "    </tr>\n",
              "    <tr>\n",
              "      <th>3</th>\n",
              "      <td>Basically there's a family where a little boy ...</td>\n",
              "      <td>negative</td>\n",
              "    </tr>\n",
              "    <tr>\n",
              "      <th>4</th>\n",
              "      <td>Petter Mattei's \"Love in the Time of Money\" is...</td>\n",
              "      <td>positive</td>\n",
              "    </tr>\n",
              "  </tbody>\n",
              "</table>\n",
              "</div>\n",
              "      <button class=\"colab-df-convert\" onclick=\"convertToInteractive('df-68250fa8-1c6e-4f9a-aaba-e24587dd22f0')\"\n",
              "              title=\"Convert this dataframe to an interactive table.\"\n",
              "              style=\"display:none;\">\n",
              "        \n",
              "  <svg xmlns=\"http://www.w3.org/2000/svg\" height=\"24px\"viewBox=\"0 0 24 24\"\n",
              "       width=\"24px\">\n",
              "    <path d=\"M0 0h24v24H0V0z\" fill=\"none\"/>\n",
              "    <path d=\"M18.56 5.44l.94 2.06.94-2.06 2.06-.94-2.06-.94-.94-2.06-.94 2.06-2.06.94zm-11 1L8.5 8.5l.94-2.06 2.06-.94-2.06-.94L8.5 2.5l-.94 2.06-2.06.94zm10 10l.94 2.06.94-2.06 2.06-.94-2.06-.94-.94-2.06-.94 2.06-2.06.94z\"/><path d=\"M17.41 7.96l-1.37-1.37c-.4-.4-.92-.59-1.43-.59-.52 0-1.04.2-1.43.59L10.3 9.45l-7.72 7.72c-.78.78-.78 2.05 0 2.83L4 21.41c.39.39.9.59 1.41.59.51 0 1.02-.2 1.41-.59l7.78-7.78 2.81-2.81c.8-.78.8-2.07 0-2.86zM5.41 20L4 18.59l7.72-7.72 1.47 1.35L5.41 20z\"/>\n",
              "  </svg>\n",
              "      </button>\n",
              "      \n",
              "  <style>\n",
              "    .colab-df-container {\n",
              "      display:flex;\n",
              "      flex-wrap:wrap;\n",
              "      gap: 12px;\n",
              "    }\n",
              "\n",
              "    .colab-df-convert {\n",
              "      background-color: #E8F0FE;\n",
              "      border: none;\n",
              "      border-radius: 50%;\n",
              "      cursor: pointer;\n",
              "      display: none;\n",
              "      fill: #1967D2;\n",
              "      height: 32px;\n",
              "      padding: 0 0 0 0;\n",
              "      width: 32px;\n",
              "    }\n",
              "\n",
              "    .colab-df-convert:hover {\n",
              "      background-color: #E2EBFA;\n",
              "      box-shadow: 0px 1px 2px rgba(60, 64, 67, 0.3), 0px 1px 3px 1px rgba(60, 64, 67, 0.15);\n",
              "      fill: #174EA6;\n",
              "    }\n",
              "\n",
              "    [theme=dark] .colab-df-convert {\n",
              "      background-color: #3B4455;\n",
              "      fill: #D2E3FC;\n",
              "    }\n",
              "\n",
              "    [theme=dark] .colab-df-convert:hover {\n",
              "      background-color: #434B5C;\n",
              "      box-shadow: 0px 1px 3px 1px rgba(0, 0, 0, 0.15);\n",
              "      filter: drop-shadow(0px 1px 2px rgba(0, 0, 0, 0.3));\n",
              "      fill: #FFFFFF;\n",
              "    }\n",
              "  </style>\n",
              "\n",
              "      <script>\n",
              "        const buttonEl =\n",
              "          document.querySelector('#df-68250fa8-1c6e-4f9a-aaba-e24587dd22f0 button.colab-df-convert');\n",
              "        buttonEl.style.display =\n",
              "          google.colab.kernel.accessAllowed ? 'block' : 'none';\n",
              "\n",
              "        async function convertToInteractive(key) {\n",
              "          const element = document.querySelector('#df-68250fa8-1c6e-4f9a-aaba-e24587dd22f0');\n",
              "          const dataTable =\n",
              "            await google.colab.kernel.invokeFunction('convertToInteractive',\n",
              "                                                     [key], {});\n",
              "          if (!dataTable) return;\n",
              "\n",
              "          const docLinkHtml = 'Like what you see? Visit the ' +\n",
              "            '<a target=\"_blank\" href=https://colab.research.google.com/notebooks/data_table.ipynb>data table notebook</a>'\n",
              "            + ' to learn more about interactive tables.';\n",
              "          element.innerHTML = '';\n",
              "          dataTable['output_type'] = 'display_data';\n",
              "          await google.colab.output.renderOutput(dataTable, element);\n",
              "          const docLink = document.createElement('div');\n",
              "          docLink.innerHTML = docLinkHtml;\n",
              "          element.appendChild(docLink);\n",
              "        }\n",
              "      </script>\n",
              "    </div>\n",
              "  </div>\n",
              "  "
            ]
          },
          "metadata": {},
          "execution_count": 151
        }
      ]
    },
    {
      "cell_type": "code",
      "execution_count": 152,
      "metadata": {
        "id": "eiD1XYfhIQBD"
      },
      "outputs": [],
      "source": [
        "import re\n",
        "class MultinomialBN():\n",
        "  def __init__(self,k):\n",
        "    self.k=k\n",
        "    self.documents=None\n",
        "    self.labels=None\n",
        "    self.vocublary={}\n",
        "    self.num_classes = 2\n",
        "    self.prior=None\n",
        "    self.likelihood=None\n",
        "    self.stop_words = set(stopwords.words('english'))\n",
        "  \n",
        "  def tokenize(self, documents, train=True):\n",
        "    '''\n",
        "    args: \n",
        "      documents: The documents to tokenized\n",
        "      train: the mode of tokenizing, in test mode we don't add new words to the vocublary\n",
        "\n",
        "    returns: a list of documents lemantized\n",
        "    '''\n",
        "    tokenized_docs=[]\n",
        "    stemmer = SnowballStemmer(language = 'english')\n",
        "    lemmantizer = WordNetLemmatizer()\n",
        "    id=0\n",
        "    for document in documents:\n",
        "      words =re.sub('[^A-Za-z ]+', '', document).split()\n",
        "      tokenized_doc=[]\n",
        "      for word in words:\n",
        "        if word.lower() not in self.stop_words:\n",
        "          stemized= stemmer.stem(word.lower(),) \n",
        "          lemantized= lemmantizer.lemmatize(stemized,)\n",
        "          # lemantized=word.lower()\n",
        "          if train:\n",
        "            if lemantized not in self.vocublary:\n",
        "              self.vocublary[lemantized]=id\n",
        "              id+=1\n",
        "          tokenized_doc.append(lemantized)\n",
        "      tokenized_docs.append(tokenized_doc)\n",
        "    return tokenized_docs\n",
        "\n",
        "  def count_words(self, documents, labels):\n",
        "    \"\"\"\n",
        "      args:\n",
        "      documents: array of tokenized documents\n",
        "      labels: categories of the documents\n",
        "      returns: \n",
        "        counts : a maxtrix that represents the frequency of each word in each category\n",
        "    \"\"\"\n",
        "\n",
        "    counts = np.zeros((len(self.vocublary), self.num_classes))\n",
        "    for document, label in zip(documents,labels):\n",
        "      for word in document:\n",
        "        if word in self.vocublary.keys():\n",
        "          counts[self.vocublary[word]][label] += 1\n",
        "     \n",
        "    return counts\n",
        "\n",
        "  def transform(self, documents):\n",
        "    \"\"\"\n",
        "    args: \n",
        "        documents: a pandas series of documents\n",
        "    returns:\n",
        "        sparse: a matrix of occurence of each word in each categore for each document\n",
        "    \"\"\"\n",
        "    sparse= np.zeros((len(documents), len(self.vocublary)))\n",
        "    documents= self.tokenize(documents, train=False)\n",
        "    for i, document in enumerate(documents):\n",
        "      for word in document:\n",
        "        if word in self.vocublary.keys():\n",
        "          sparse[i][self.vocublary[word]]=1\n",
        "    return sparse\n",
        "\n",
        "\n",
        "\n",
        "\n",
        "  def prior_probablity(self):\n",
        "    #returns the prior probablity of each class\n",
        "    prior_probabilities = np.zeros(self.num_classes)\n",
        "    total_documents = len(self.labels)\n",
        "\n",
        "    for cat in range(self.num_classes):\n",
        "      prior_probabilities[cat] = self.labels.value_counts()[cat]/total_documents\n",
        "\n",
        "    self.prior = prior_probabilities\n",
        "\n",
        "\n",
        "  def likelihood_probablity(self, counts):\n",
        "    \"\"\"\n",
        "    args:\n",
        "        counts: the count maxtrix of frequency of each word in the document\n",
        "    \"\"\"\n",
        "    vocabulary_size = len(self.vocublary)\n",
        "    word_probablities=np.zeros((vocabulary_size, self.num_classes))\n",
        "    category_count=np.sum(counts,axis=0)\n",
        "\n",
        "    category_count= category_count+ self.k*vocabulary_size\n",
        "    counts = counts+self.k\n",
        "    word_probablities=counts/category_count\n",
        "    self.likelihood=word_probablities\n",
        "\n",
        "  def fit(self, X, y):\n",
        "    #fit the the train data to the model\n",
        "    self.documents = self.tokenize(X, train=True)\n",
        "    classes=y.unique()\n",
        "    self.num_classes=len(classes)\n",
        "    self.labels = y.map(lambda x: np.where(classes==x)[0][0])\n",
        "  \n",
        "    counts = self.count_words(self.documents, self.labels)\n",
        "    self.prior_probablity()\n",
        "    self.likelihood_probablity(counts)\n",
        "    \n",
        "\n",
        "  def predict(self, X, batch_size=500):\n",
        "    #returns the prediction of categories for a test document\n",
        "    batches=(len(X)//batch_size)+1\n",
        "    predictions=[]\n",
        "    for batch in range(batches):\n",
        "      X_new=X[batch*batch_size:(batch+1)*(batch_size)]\n",
        "      X_new= self.transform(X_new)\n",
        "      log_probablity= X_new[..., np.newaxis]*np.log(self.likelihood[np.newaxis,...])\n",
        "      cat_log_probablity= log_probablity.sum(axis=1)\n",
        "\n",
        "      category_probablity = np.log(self.prior) + cat_log_probablity\n",
        "      prediction=np.argmax(category_probablity,axis=1)\n",
        "      predictions.extend(prediction)\n",
        "    return predictions\n",
        "\n",
        "\n",
        "  def accuracy(self, y, yPred):\n",
        "    #returns the accuracy of the model in percentage\n",
        "    return (np.sum(y == yPred)/len(y))*100\n"
      ]
    },
    {
      "cell_type": "markdown",
      "source": [
        ""
      ],
      "metadata": {
        "id": "mjaEyhy9LBj0"
      }
    },
    {
      "cell_type": "code",
      "source": [
        "transformer=MultinomialBN(k=1)"
      ],
      "metadata": {
        "id": "Eq4efotFc_Z0"
      },
      "execution_count": 153,
      "outputs": []
    },
    {
      "cell_type": "code",
      "source": [
        "ratio = 0.8\n",
        "size = len(movie_df)\n",
        "train_size = int(ratio * size)\n",
        "print(train_size)\n",
        "X_train, y_train = movie_df['review'][:train_size], movie_df['sentiment'][:train_size]\n",
        "X_test, y_test = movie_df['review'][train_size:], movie_df['sentiment'][train_size:]\n",
        "cats = movie_df['sentiment'].unique().tolist()\n",
        "y_test = y_test.apply(lambda x : cats.index(x))"
      ],
      "metadata": {
        "colab": {
          "base_uri": "https://localhost:8080/"
        },
        "id": "xGXxmy6R3WOo",
        "outputId": "99795841-9010-40d1-a4e3-e0c10c8c9586"
      },
      "execution_count": 154,
      "outputs": [
        {
          "output_type": "stream",
          "name": "stdout",
          "text": [
            "40000\n"
          ]
        }
      ]
    },
    {
      "cell_type": "code",
      "source": [
        "transformer.fit(X_train, y_train)"
      ],
      "metadata": {
        "id": "UAj_CWztA7ZB"
      },
      "execution_count": 155,
      "outputs": []
    },
    {
      "cell_type": "code",
      "source": [
        "ypred=transformer.predict(X_test)"
      ],
      "metadata": {
        "id": "5abPm8d-Lnk6"
      },
      "execution_count": 156,
      "outputs": []
    },
    {
      "cell_type": "code",
      "source": [
        "transformer.accuracy(ypred, y_test)"
      ],
      "metadata": {
        "colab": {
          "base_uri": "https://localhost:8080/"
        },
        "id": "_zOY7H3yR7E1",
        "outputId": "3f54a9d3-2f10-4318-a050-c886150f1e5b"
      },
      "execution_count": 157,
      "outputs": [
        {
          "output_type": "execute_result",
          "data": {
            "text/plain": [
              "85.79"
            ]
          },
          "metadata": {},
          "execution_count": 157
        }
      ]
    },
    {
      "cell_type": "markdown",
      "source": [
        "## Result analysis"
      ],
      "metadata": {
        "id": "De5ZjdhWUOE5"
      }
    },
    {
      "cell_type": "code",
      "source": [
        "\n",
        "cm = confusion_matrix(y_test, ypred,)\n",
        "disp = ConfusionMatrixDisplay(confusion_matrix=cm, display_labels=cats)\n",
        "disp.plot()"
      ],
      "metadata": {
        "colab": {
          "base_uri": "https://localhost:8080/",
          "height": 297
        },
        "id": "BdhLClciUS9T",
        "outputId": "889f287d-1667-462b-fb65-8d204395185b"
      },
      "execution_count": 158,
      "outputs": [
        {
          "output_type": "execute_result",
          "data": {
            "text/plain": [
              "<sklearn.metrics._plot.confusion_matrix.ConfusionMatrixDisplay at 0x7f8d2b0d13d0>"
            ]
          },
          "metadata": {},
          "execution_count": 158
        },
        {
          "output_type": "display_data",
          "data": {
            "text/plain": [
              "<Figure size 432x288 with 2 Axes>"
            ],
            "image/png": "[encoded data removed]"
          },
          "metadata": {
            "needs_background": "light"
          }
        }
      ]
    },
    {
      "cell_type": "code",
      "source": [
        "df2 = pd.read_csv('/content/sample_data/mnb.csv')\n",
        "df2.head()"
      ],
      "metadata": {
        "colab": {
          "base_uri": "https://localhost:8080/",
          "height": 441
        },
        "id": "72prEgcWUWwG",
        "outputId": "c36d31e6-3ce4-4d77-a9fe-320855c09802"
      },
      "execution_count": 159,
      "outputs": [
        {
          "output_type": "execute_result",
          "data": {
            "text/plain": [
              "   Unnamed: 0                                              TITLE  \\\n",
              "0           0  Fed official says weak data caused by weather,...   \n",
              "1           1  Fed's Charles Plosser sees high bar for change...   \n",
              "2           2  US open: Stocks fall after Fed official hints ...   \n",
              "3           3  Fed risks falling 'behind the curve', Charles ...   \n",
              "4           4  Fed's Plosser: Nasty Weather Has Curbed Job Gr...   \n",
              "\n",
              "                                                 URL          PUBLISHER  \\\n",
              "0  http://www.latimes.com/business/money/la-fi-mo...  Los Angeles Times   \n",
              "1  http://www.livemint.com/Politics/H2EvwJSK2VE6O...           Livemint   \n",
              "2  http://www.ifamagazine.com/news/us-open-stocks...       IFA Magazine   \n",
              "3  http://www.ifamagazine.com/news/fed-risks-fall...       IFA Magazine   \n",
              "4  http://www.moneynews.com/Economy/federal-reser...          Moneynews   \n",
              "\n",
              "  CATEGORY                          STORY             HOSTNAME     TIMESTAMP  \n",
              "0        b  ddUyU0VZz0BRneMioxUPQVP6sIxvM      www.latimes.com  1.390000e+12  \n",
              "1        b  ddUyU0VZz0BRneMioxUPQVP6sIxvM     www.livemint.com  1.390000e+12  \n",
              "2        b  ddUyU0VZz0BRneMioxUPQVP6sIxvM  www.ifamagazine.com  1.390000e+12  \n",
              "3        b  ddUyU0VZz0BRneMioxUPQVP6sIxvM  www.ifamagazine.com  1.390000e+12  \n",
              "4        b  ddUyU0VZz0BRneMioxUPQVP6sIxvM    www.moneynews.com  1.390000e+12  "
            ],
            "text/html": [
              "\n",
              "  <div id=\"df-a70063e2-78f4-4199-b6fb-d4b0ffddadb6\">\n",
              "    <div class=\"colab-df-container\">\n",
              "      <div>\n",
              "<style scoped>\n",
              "    .dataframe tbody tr th:only-of-type {\n",
              "        vertical-align: middle;\n",
              "    }\n",
              "\n",
              "    .dataframe tbody tr th {\n",
              "        vertical-align: top;\n",
              "    }\n",
              "\n",
              "    .dataframe thead th {\n",
              "        text-align: right;\n",
              "    }\n",
              "</style>\n",
              "<table border=\"1\" class=\"dataframe\">\n",
              "  <thead>\n",
              "    <tr style=\"text-align: right;\">\n",
              "      <th></th>\n",
              "      <th>Unnamed: 0</th>\n",
              "      <th>TITLE</th>\n",
              "      <th>URL</th>\n",
              "      <th>PUBLISHER</th>\n",
              "      <th>CATEGORY</th>\n",
              "      <th>STORY</th>\n",
              "      <th>HOSTNAME</th>\n",
              "      <th>TIMESTAMP</th>\n",
              "    </tr>\n",
              "  </thead>\n",
              "  <tbody>\n",
              "    <tr>\n",
              "      <th>0</th>\n",
              "      <td>0</td>\n",
              "      <td>Fed official says weak data caused by weather,...</td>\n",
              "      <td>http://www.latimes.com/business/money/la-fi-mo...</td>\n",
              "      <td>Los Angeles Times</td>\n",
              "      <td>b</td>\n",
              "      <td>ddUyU0VZz0BRneMioxUPQVP6sIxvM</td>\n",
              "      <td>www.latimes.com</td>\n",
              "      <td>1.390000e+12</td>\n",
              "    </tr>\n",
              "    <tr>\n",
              "      <th>1</th>\n",
              "      <td>1</td>\n",
              "      <td>Fed's Charles Plosser sees high bar for change...</td>\n",
              "      <td>http://www.livemint.com/Politics/H2EvwJSK2VE6O...</td>\n",
              "      <td>Livemint</td>\n",
              "      <td>b</td>\n",
              "      <td>ddUyU0VZz0BRneMioxUPQVP6sIxvM</td>\n",
              "      <td>www.livemint.com</td>\n",
              "      <td>1.390000e+12</td>\n",
              "    </tr>\n",
              "    <tr>\n",
              "      <th>2</th>\n",
              "      <td>2</td>\n",
              "      <td>US open: Stocks fall after Fed official hints ...</td>\n",
              "      <td>http://www.ifamagazine.com/news/us-open-stocks...</td>\n",
              "      <td>IFA Magazine</td>\n",
              "      <td>b</td>\n",
              "      <td>ddUyU0VZz0BRneMioxUPQVP6sIxvM</td>\n",
              "      <td>www.ifamagazine.com</td>\n",
              "      <td>1.390000e+12</td>\n",
              "    </tr>\n",
              "    <tr>\n",
              "      <th>3</th>\n",
              "      <td>3</td>\n",
              "      <td>Fed risks falling 'behind the curve', Charles ...</td>\n",
              "      <td>http://www.ifamagazine.com/news/fed-risks-fall...</td>\n",
              "      <td>IFA Magazine</td>\n",
              "      <td>b</td>\n",
              "      <td>ddUyU0VZz0BRneMioxUPQVP6sIxvM</td>\n",
              "      <td>www.ifamagazine.com</td>\n",
              "      <td>1.390000e+12</td>\n",
              "    </tr>\n",
              "    <tr>\n",
              "      <th>4</th>\n",
              "      <td>4</td>\n",
              "      <td>Fed's Plosser: Nasty Weather Has Curbed Job Gr...</td>\n",
              "      <td>http://www.moneynews.com/Economy/federal-reser...</td>\n",
              "      <td>Moneynews</td>\n",
              "      <td>b</td>\n",
              "      <td>ddUyU0VZz0BRneMioxUPQVP6sIxvM</td>\n",
              "      <td>www.moneynews.com</td>\n",
              "      <td>1.390000e+12</td>\n",
              "    </tr>\n",
              "  </tbody>\n",
              "</table>\n",
              "</div>\n",
              "      <button class=\"colab-df-convert\" onclick=\"convertToInteractive('df-a70063e2-78f4-4199-b6fb-d4b0ffddadb6')\"\n",
              "              title=\"Convert this dataframe to an interactive table.\"\n",
              "              style=\"display:none;\">\n",
              "        \n",
              "  <svg xmlns=\"http://www.w3.org/2000/svg\" height=\"24px\"viewBox=\"0 0 24 24\"\n",
              "       width=\"24px\">\n",
              "    <path d=\"M0 0h24v24H0V0z\" fill=\"none\"/>\n",
              "    <path d=\"M18.56 5.44l.94 2.06.94-2.06 2.06-.94-2.06-.94-.94-2.06-.94 2.06-2.06.94zm-11 1L8.5 8.5l.94-2.06 2.06-.94-2.06-.94L8.5 2.5l-.94 2.06-2.06.94zm10 10l.94 2.06.94-2.06 2.06-.94-2.06-.94-.94-2.06-.94 2.06-2.06.94z\"/><path d=\"M17.41 7.96l-1.37-1.37c-.4-.4-.92-.59-1.43-.59-.52 0-1.04.2-1.43.59L10.3 9.45l-7.72 7.72c-.78.78-.78 2.05 0 2.83L4 21.41c.39.39.9.59 1.41.59.51 0 1.02-.2 1.41-.59l7.78-7.78 2.81-2.81c.8-.78.8-2.07 0-2.86zM5.41 20L4 18.59l7.72-7.72 1.47 1.35L5.41 20z\"/>\n",
              "  </svg>\n",
              "      </button>\n",
              "      \n",
              "  <style>\n",
              "    .colab-df-container {\n",
              "      display:flex;\n",
              "      flex-wrap:wrap;\n",
              "      gap: 12px;\n",
              "    }\n",
              "\n",
              "    .colab-df-convert {\n",
              "      background-color: #E8F0FE;\n",
              "      border: none;\n",
              "      border-radius: 50%;\n",
              "      cursor: pointer;\n",
              "      display: none;\n",
              "      fill: #1967D2;\n",
              "      height: 32px;\n",
              "      padding: 0 0 0 0;\n",
              "      width: 32px;\n",
              "    }\n",
              "\n",
              "    .colab-df-convert:hover {\n",
              "      background-color: #E2EBFA;\n",
              "      box-shadow: 0px 1px 2px rgba(60, 64, 67, 0.3), 0px 1px 3px 1px rgba(60, 64, 67, 0.15);\n",
              "      fill: #174EA6;\n",
              "    }\n",
              "\n",
              "    [theme=dark] .colab-df-convert {\n",
              "      background-color: #3B4455;\n",
              "      fill: #D2E3FC;\n",
              "    }\n",
              "\n",
              "    [theme=dark] .colab-df-convert:hover {\n",
              "      background-color: #434B5C;\n",
              "      box-shadow: 0px 1px 3px 1px rgba(0, 0, 0, 0.15);\n",
              "      filter: drop-shadow(0px 1px 2px rgba(0, 0, 0, 0.3));\n",
              "      fill: #FFFFFF;\n",
              "    }\n",
              "  </style>\n",
              "\n",
              "      <script>\n",
              "        const buttonEl =\n",
              "          document.querySelector('#df-a70063e2-78f4-4199-b6fb-d4b0ffddadb6 button.colab-df-convert');\n",
              "        buttonEl.style.display =\n",
              "          google.colab.kernel.accessAllowed ? 'block' : 'none';\n",
              "\n",
              "        async function convertToInteractive(key) {\n",
              "          const element = document.querySelector('#df-a70063e2-78f4-4199-b6fb-d4b0ffddadb6');\n",
              "          const dataTable =\n",
              "            await google.colab.kernel.invokeFunction('convertToInteractive',\n",
              "                                                     [key], {});\n",
              "          if (!dataTable) return;\n",
              "\n",
              "          const docLinkHtml = 'Like what you see? Visit the ' +\n",
              "            '<a target=\"_blank\" href=https://colab.research.google.com/notebooks/data_table.ipynb>data table notebook</a>'\n",
              "            + ' to learn more about interactive tables.';\n",
              "          element.innerHTML = '';\n",
              "          dataTable['output_type'] = 'display_data';\n",
              "          await google.colab.output.renderOutput(dataTable, element);\n",
              "          const docLink = document.createElement('div');\n",
              "          docLink.innerHTML = docLinkHtml;\n",
              "          element.appendChild(docLink);\n",
              "        }\n",
              "      </script>\n",
              "    </div>\n",
              "  </div>\n",
              "  "
            ]
          },
          "metadata": {},
          "execution_count": 159
        }
      ]
    },
    {
      "cell_type": "code",
      "source": [
        ""
      ],
      "metadata": {
        "id": "-revNxVvUe9v"
      },
      "execution_count": 159,
      "outputs": []
    },
    {
      "cell_type": "code",
      "source": [
        "new_transformer = MultinomialBN(k=1)"
      ],
      "metadata": {
        "id": "YSbyMZpmUiLI"
      },
      "execution_count": 160,
      "outputs": []
    },
    {
      "cell_type": "code",
      "source": [
        "ratio = 0.8\n",
        "size = len(df2)\n",
        "train_size = int(ratio * size)\n",
        "print(train_size)\n",
        "X_train2, y_train2 = df2['TITLE'][:train_size], df2['CATEGORY'][:train_size]\n",
        "X_test2, y_test2 = df2['TITLE'][train_size:], df2['CATEGORY'][train_size:]\n",
        "cats = df2['CATEGORY'].unique().tolist()\n",
        "y_test2 = y_test2.apply(lambda x : cats.index(x))\n"
      ],
      "metadata": {
        "colab": {
          "base_uri": "https://localhost:8080/"
        },
        "id": "0nReXJFnUppj",
        "outputId": "9a35dfbd-626d-4f36-9067-e0f8592f96ab"
      },
      "execution_count": 161,
      "outputs": [
        {
          "output_type": "stream",
          "name": "stdout",
          "text": [
            "52\n"
          ]
        }
      ]
    },
    {
      "cell_type": "code",
      "source": [
        "X_test2.shape"
      ],
      "metadata": {
        "colab": {
          "base_uri": "https://localhost:8080/"
        },
        "id": "KX8vEITQZtEt",
        "outputId": "e40d9310-14b5-4283-e892-ea61ea48162b"
      },
      "execution_count": 162,
      "outputs": [
        {
          "output_type": "execute_result",
          "data": {
            "text/plain": [
              "(13,)"
            ]
          },
          "metadata": {},
          "execution_count": 162
        }
      ]
    },
    {
      "cell_type": "code",
      "source": [
        "new_transformer.fit(X_train2, y_train2)"
      ],
      "metadata": {
        "id": "D-0JrYbvUu7r"
      },
      "execution_count": 163,
      "outputs": []
    },
    {
      "cell_type": "code",
      "source": [
        "yPred = new_transformer.predict(X_test2)"
      ],
      "metadata": {
        "id": "s8VI4rnXU2zU"
      },
      "execution_count": 164,
      "outputs": []
    },
    {
      "cell_type": "code",
      "source": [
        "yPred"
      ],
      "metadata": {
        "colab": {
          "base_uri": "https://localhost:8080/"
        },
        "id": "8C0AKYtkapwq",
        "outputId": "65bce215-78c4-49ec-d463-074daeecbd1e"
      },
      "execution_count": 165,
      "outputs": [
        {
          "output_type": "execute_result",
          "data": {
            "text/plain": [
              "[2, 2, 2, 2, 2, 2, 2, 2, 2, 2, 2, 2, 2]"
            ]
          },
          "metadata": {},
          "execution_count": 165
        }
      ]
    },
    {
      "cell_type": "code",
      "source": [
        "new_transformer.accuracy(yPred, y_test2)"
      ],
      "metadata": {
        "colab": {
          "base_uri": "https://localhost:8080/"
        },
        "id": "o7gz4YQQU789",
        "outputId": "b4c0c9c8-c634-426d-e5dc-6519a2ba59c2"
      },
      "execution_count": 166,
      "outputs": [
        {
          "output_type": "execute_result",
          "data": {
            "text/plain": [
              "100.0"
            ]
          },
          "metadata": {},
          "execution_count": 166
        }
      ]
    },
    {
      "cell_type": "code",
      "source": [
        "cm = confusion_matrix(y_test2, yPred)\n",
        "disp = ConfusionMatrixDisplay(confusion_matrix=cm, display_labels=cats)\n",
        "disp.plot()"
      ],
      "metadata": {
        "colab": {
          "base_uri": "https://localhost:8080/",
          "height": 297
        },
        "id": "EIkbAriVU-00",
        "outputId": "00fb42f2-ec32-4159-fb63-eeaffa365e4a"
      },
      "execution_count": 167,
      "outputs": [
        {
          "output_type": "execute_result",
          "data": {
            "text/plain": [
              "<sklearn.metrics._plot.confusion_matrix.ConfusionMatrixDisplay at 0x7f8d2a56ff90>"
            ]
          },
          "metadata": {},
          "execution_count": 167
        },
        {
          "output_type": "display_data",
          "data": {
            "text/plain": [
              "<Figure size 432x288 with 2 Axes>"
            ],
            "image/png": "[encoded data removed]"
          },
          "metadata": {
            "needs_background": "light"
          }
        }
      ]
    },
    {
      "cell_type": "markdown",
      "source": [
        "<h1>Compare result with Scikit learn result</h1>"
      ],
      "metadata": {
        "id": "ATnFyKbuVLSc"
      }
    },
    {
      "cell_type": "code",
      "source": [
        "stemmer = SnowballStemmer(language = 'english')\n",
        "lem = WordNetLemmatizer()\n",
        "stop = set(stopwords.words('english'))\n",
        "\n",
        "def tokenize(document):\n",
        "  document = document.lower()\n",
        "  data = [char for char in document if char not in string.punctuation]\n",
        "  data = ''.join(data)\n",
        "  data = [word for word in data.split() if word.lower() not in stop]\n",
        "  data = [stemmer.stem(x,) for x in data]\n",
        "  data = [lem.lemmatize(x,) for x in data]\n",
        "  return data"
      ],
      "metadata": {
        "id": "tCQgtvVXVGNI"
      },
      "execution_count": 168,
      "outputs": []
    },
    {
      "cell_type": "code",
      "source": [
        "from sklearn.feature_extraction.text import CountVectorizer\n",
        "from sklearn.feature_extraction.text import TfidfTransformer\n",
        "from sklearn.naive_bayes import MultinomialNB\n",
        "from sklearn.metrics import accuracy_score\n",
        "from sklearn.preprocessing import LabelEncoder\n",
        "from sklearn.model_selection import train_test_split\n"
      ],
      "metadata": {
        "id": "8NLg7VOwVSFh"
      },
      "execution_count": 169,
      "outputs": []
    },
    {
      "cell_type": "code",
      "source": [
        "\n",
        "# pull the data into vectors\n",
        "vectorizer = CountVectorizer()\n",
        "x = vectorizer.fit_transform(df2['TITLE'])\n",
        "\n",
        "encoder = LabelEncoder()\n",
        "y = encoder.fit_transform(df2['CATEGORY'])\n",
        "\n",
        "# split into train and test sets\n",
        "x_train, x_test, y_train, y_test = train_test_split(x, y, test_size=0.2)\n",
        "\n",
        "nb = MultinomialNB()\n",
        "nb.fit(x_train, y_train)\n",
        "y_predicted = nb.predict(x_test)\n",
        "\n",
        "accuracy_score(y_test, y_predicted) "
      ],
      "metadata": {
        "colab": {
          "base_uri": "https://localhost:8080/"
        },
        "id": "Iq9nUDbaVU0n",
        "outputId": "8abb4e50-327b-4f04-c0ea-21c01e81c6f4"
      },
      "execution_count": 170,
      "outputs": [
        {
          "output_type": "execute_result",
          "data": {
            "text/plain": [
              "1.0"
            ]
          },
          "metadata": {},
          "execution_count": 170
        }
      ]
    },
    {
      "cell_type": "code",
      "source": [
        "# pull the data into vectors\n",
        "vectorizer = CountVectorizer()\n",
        "x = vectorizer.fit_transform(movie_df['review'])\n",
        "\n",
        "encoder = LabelEncoder()\n",
        "y = encoder.fit_transform(movie_df['sentiment'])\n",
        "\n",
        "# split into train and test sets\n",
        "x_train, x_test, y_train, y_test = train_test_split(x, y, test_size=0.2)\n",
        "\n",
        "nb = MultinomialNB()\n",
        "nb.fit(x_train, y_train)\n",
        "y_predicted = nb.predict(x_test)\n",
        "\n",
        "accuracy_score(y_test, y_predicted) "
      ],
      "metadata": {
        "colab": {
          "base_uri": "https://localhost:8080/"
        },
        "id": "SDo97EmbVa89",
        "outputId": "97d6da03-5f3b-42ab-8ab3-dfe03ea9c484"
      },
      "execution_count": 171,
      "outputs": [
        {
          "output_type": "execute_result",
          "data": {
            "text/plain": [
              "0.848"
            ]
          },
          "metadata": {},
          "execution_count": 171
        }
      ]
    },
    {
      "cell_type": "markdown",
      "source": [
        "\n",
        "<h1>Conclusion</h1>\n",
        "\n",
        "We can see that our code perform as well as their code, but it is a bit slow."
      ],
      "metadata": {
        "id": "5U0OQty8VcMM"
      }
    },
    {
      "cell_type": "code",
      "source": [
        ""
      ],
      "metadata": {
        "id": "psfyKy02uA8m"
      },
      "execution_count": 171,
      "outputs": []
    }
  ],
  "metadata": {
    "colab": {
      "collapsed_sections": [],
      "name": "Multinomial naive bayes optimized.ipynb",
      "provenance": [],
      "include_colab_link": true
    },
    "kernelspec": {
      "display_name": "Python 3",
      "name": "python3"
    },
    "language_info": {
      "name": "python"
    },
    "accelerator": "GPU"
  },
  "nbformat": 4,
  "nbformat_minor": 0
}